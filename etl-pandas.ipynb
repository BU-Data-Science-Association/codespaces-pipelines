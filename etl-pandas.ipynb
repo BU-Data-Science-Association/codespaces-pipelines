{
 "cells": [
  {
   "attachments": {},
   "cell_type": "markdown",
   "metadata": {},
   "source": [
    "# Basic ETL with Pandas, Azure Cosmos DB and GitHub Codespaces\n",
    "Convert a filtered CSV File into JSON, then insert into Azure Cosmos DB in minutes with GitHub Codespaces\n",
    "\n",
    "1. [Create a Cosmos DB NoSQL Account, you can stop after creating the resource](https://learn.microsoft.com/en-us/azure/cosmos-db/nosql/quickstart-portal?WT.mc_id=academic-99884-jasmineg)\n",
    "\n",
    "2. After account is created in the Azure Portal, navigate to the resource (you can find it in your notifications)\n",
    "\n",
    "3. To the right of the resource overview select `Keys`. locate the `URI`, and `PRIMARY KEY` secrets.\n",
    "\n",
    "    ![Azure cosmos db secrets](img/azcosmosdb_secrets.png)\n",
    " \n",
    "4. Set copied secrets it as secrets in your [Codespaces settings here](https://github.com/settings/codespaces). \n",
    "    **`URI` should be the `COSMOS_ENDPOINT` secret and `PRIMARY KEY` should be the  `COSMOS_KEY` secret**\n",
    "     ![codespaces secrets](img/codespaces_secret_settings.png)\n",
    "\n",
    "5. Run this Notebook\n",
    "\n",
    "6. **[Clean up your Cosmos DB Account Resources after you're done!](https://learn.microsoft.com/en-us/azure/cosmos-db/nosql/quickstart-portal#clean-up-resources?WT.mc_id=academic-99884-jasmineg)**\n",
    " "
   ]
  },
  {
   "cell_type": "code",
   "execution_count": null,
   "metadata": {},
   "outputs": [],
   "source": [
    "# Read the parquet file into Pandas data frame\n",
    "import pandas as pd\n",
    "import os\n",
    "import json\n",
    "import uuid\n",
    "\n",
    "\n",
    "filename = 'airports.csv'\n",
    "print('Reading the csv file into Pandas data frame')\n",
    "df = pd.read_csv(filename)\n",
    "\n",
    "#Filter down to\n",
    "us_airports = df.query('country == \"United States\"')\n",
    "\n",
    "us_airports"
   ]
  },
  {
   "cell_type": "code",
   "execution_count": null,
   "metadata": {},
   "outputs": [],
   "source": [
    "#Transform to json\n",
    "us_airports_json = us_airports.sample(n=3).to_json(orient= 'records') \n",
    "us_airports_json\n",
    "\n",
    "data = json.loads(us_airports_json)\n",
    "data"
   ]
  },
  {
   "cell_type": "code",
   "execution_count": null,
   "metadata": {},
   "outputs": [],
   "source": [
    "\n",
    "from azure.cosmos import CosmosClient, PartitionKey\n",
    "\n",
    "ENDPOINT =  os.environ[\"COSMOS_ENDPOINT\"]\n",
    "KEY = os.environ[\"COSMOS_KEY\"]\n",
    "\n",
    "DATABASE_NAME = \"demo\"\n",
    "CONTAINER_NAME = \"airports\"\n",
    "\n",
    "client = CosmosClient(url=ENDPOINT, credential=KEY)\n",
    "\n",
    "database = client.create_database_if_not_exists(id=DATABASE_NAME)\n",
    "print(\"Database\\t\", database.id)\n",
    "\n",
    "key_path = PartitionKey(path=\"/airport_id\")\n",
    "\n",
    "container = database.create_container_if_not_exists(\n",
    "    id=CONTAINER_NAME, partition_key=key_path, offer_throughput=400\n",
    ")\n",
    "print(\"Container\\t\", container.id)\n",
    "\n",
    "\n",
    "\n",
    "for airport in data:\n",
    "    data[0]['id'] = str(uuid.uuid4())\n",
    "    container.create_item(data[0])\n",
    "\n",
    "print('Data has been imported')\n"
   ]
  }
 ],
 "metadata": {
  "kernelspec": {
   "display_name": "venv",
   "language": "python",
   "name": "python3"
  },
  "language_info": {
   "codemirror_mode": {
    "name": "ipython",
    "version": 3
   },
   "file_extension": ".py",
   "mimetype": "text/x-python",
   "name": "python",
   "nbconvert_exporter": "python",
   "pygments_lexer": "ipython3",
   "version": "3.10.12"
  },
  "orig_nbformat": 4
 },
 "nbformat": 4,
 "nbformat_minor": 2
}
